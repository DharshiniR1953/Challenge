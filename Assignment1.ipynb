{
  "nbformat": 4,
  "nbformat_minor": 0,
  "metadata": {
    "colab": {
      "provenance": []
    },
    "kernelspec": {
      "name": "python3",
      "display_name": "Python 3"
    },
    "language_info": {
      "name": "python"
    }
  },
  "cells": [
    {
      "cell_type": "code",
      "execution_count": null,
      "metadata": {
        "colab": {
          "base_uri": "https://localhost:8080/"
        },
        "id": "qEUMR4Djy7vo",
        "outputId": "72a7f3a0-41f2-4d67-b604-bcaf4ce96e3d"
      },
      "outputs": [
        {
          "output_type": "stream",
          "name": "stdout",
          "text": [
            "Enter the elements of the array (separated by spaces): 10 44 55 66 77 88 99 11 22 33 45\n",
            "Enter the number of positions to rotate the array to the right: 6\n",
            "Rotated Array: [88, 99, 11, 22, 33, 45, 10, 44, 55, 66, 77]\n"
          ]
        }
      ],
      "source": [
        "def rotate_right(arr, k):\n",
        "    n = len(arr)\n",
        "    k = k % n\n",
        "    reverse(arr, 0, n - 1)\n",
        "    reverse(arr, 0, k - 1)\n",
        "    reverse(arr, k, n - 1)\n",
        "\n",
        "def reverse(arr, start, end):\n",
        "    while start < end:\n",
        "        arr[start], arr[end] = arr[end], arr[start]\n",
        "        start += 1\n",
        "        end -= 1\n",
        "\n",
        "arr = list(map(int, input(\"Enter the elements of the array (separated by spaces): \").split()))\n",
        "k = int(input(\"Enter the number of positions to rotate the array to the right: \"))\n",
        "\n",
        "rotate_right(arr, k)\n",
        "\n",
        "print(\"Rotated Array:\", arr)\n"
      ]
    },
    {
      "cell_type": "code",
      "source": [],
      "metadata": {
        "id": "ZIsXDFSBy87D"
      },
      "execution_count": null,
      "outputs": []
    }
  ]
}